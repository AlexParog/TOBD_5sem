{
 "cells": [
  {
   "cell_type": "markdown",
   "metadata": {},
   "source": [
    "# Работа с базами данных"
   ]
  },
  {
   "cell_type": "markdown",
   "metadata": {},
   "source": [
    "Материалы:\n",
    "* Макрушин С.В. Лекция 6: Работа с базами данных\n",
    "* https://sqliteonline.com/\n",
    "* https://docs.python.org/3/library/sqlite3.html\n",
    "* https://www.geeksforgeeks.org/sql-join-set-1-inner-left-right-and-full-joins/\n",
    "* https://www.datacamp.com/community/tutorials/group-by-having-clause-sql"
   ]
  },
  {
   "cell_type": "markdown",
   "metadata": {},
   "source": [
    "## Задачи для совместного разбора"
   ]
  },
  {
   "cell_type": "code",
   "execution_count": 1,
   "metadata": {},
   "outputs": [],
   "source": [
    "import csv\n",
    "import pandas as pd\n",
    "import numpy as np\n",
    "\n",
    "from pprint import pprint as pp\n",
    "import sqlite3"
   ]
  },
  {
   "cell_type": "code",
   "execution_count": 2,
   "metadata": {},
   "outputs": [],
   "source": [
    "# test\n",
    "\n",
    "con = sqlite3.connect('./sem6/Chinook_Sqlite.sqlite')\n",
    "cur = con.cursor()\n",
    "\n",
    "cur.close()\n",
    "con.close()"
   ]
  },
  {
   "cell_type": "markdown",
   "metadata": {},
   "source": [
    "1. Работая с базой данных `Chinook_Sqlite.sqlite`, найдите и выведите на экран имена и фамилии всех заказчиков из Канады"
   ]
  },
  {
   "cell_type": "markdown",
   "metadata": {},
   "source": [
    "2. Найти и вывести на экран названия всех альбомов группы Accept"
   ]
  },
  {
   "cell_type": "markdown",
   "metadata": {},
   "source": [
    "3. Создайте базу данных с названием вашей группы. В этой базе данных создайте таблицу Student, содержащую 2 столбца: id и name. Добавьте в таблицу Student информацию о студентах, сидящих с вами по соседству."
   ]
  },
  {
   "cell_type": "markdown",
   "metadata": {},
   "source": [
    "## Лабораторная работа 6"
   ]
  },
  {
   "cell_type": "markdown",
   "metadata": {},
   "source": [
    "1. Создайте файл базы данных c названием `recipes.db`. Создайте объект-курсор. "
   ]
  },
  {
   "cell_type": "code",
   "execution_count": 3,
   "metadata": {},
   "outputs": [],
   "source": [
    "conn = sqlite3.connect('./sem6/recipes.db')\n",
    "curr = conn.cursor()\n"
   ]
  },
  {
   "cell_type": "markdown",
   "metadata": {},
   "source": [
    "2. Напишите и выполните SQL-запрос для создания таблицы рецептов `Recipe`. Таблица должна содержать следующие поля:\n",
    "`id`, `name`, `minutes`, `submitted`, `description`, `n_ingredients`. Определитесь с типами и составом ключевых полей."
   ]
  },
  {
   "cell_type": "code",
   "execution_count": 4,
   "metadata": {},
   "outputs": [
    {
     "data": {
      "text/plain": [
       "<sqlite3.Cursor at 0x2a23488ca40>"
      ]
     },
     "execution_count": 4,
     "metadata": {},
     "output_type": "execute_result"
    }
   ],
   "source": [
    "conn = sqlite3.connect('./sem6/recipes.db')\n",
    "curr = conn.cursor()\n",
    "\n",
    "curr.execute(\"\"\"\n",
    "    CREATE TABLE Recipe(\n",
    "        id INTEGER PRIMARY KEY, \n",
    "        name VARCHAR(64), \n",
    "        minutes INTEGER,\n",
    "        submitted DATE,\n",
    "        desciption TEXT,\n",
    "        n_ingredients INTEGER)\"\"\")\n"
   ]
  },
  {
   "cell_type": "markdown",
   "metadata": {},
   "source": [
    "3. Напишите и выполните SQL-запрос для создания таблицы отзывов `Review`. Таблица должна содержать следующие поля:\n",
    "`id`, `user_id`, `recipe_id`, `date`, `rating`, `review`. Определитесь с типами полей, набором ключевых полей. При помощи внешнего ключа соедините две таблицы."
   ]
  },
  {
   "cell_type": "code",
   "execution_count": 5,
   "metadata": {},
   "outputs": [
    {
     "data": {
      "text/plain": [
       "<sqlite3.Cursor at 0x2a23488cab0>"
      ]
     },
     "execution_count": 5,
     "metadata": {},
     "output_type": "execute_result"
    }
   ],
   "source": [
    "conn = sqlite3.connect('./sem6/recipes.db')\n",
    "curr = conn.cursor()\n",
    "\n",
    "curr.execute(\"\"\"\n",
    "    CREATE TABLE Review(\n",
    "        id INTEGER PRIMARY KEY, \n",
    "        user_id INTEGER,\n",
    "        recipe_id INTEGER,\n",
    "        date DATE,\n",
    "        rating INTEGER,\n",
    "        review VARCHAR(128),\n",
    "        FOREIGN KEY (recipe_id) REFERENCES Recipe(id))\"\"\")\n"
   ]
  },
  {
   "cell_type": "markdown",
   "metadata": {},
   "source": [
    "4. Загрузите данные из файлов `reviews_sample.csv` (__ЛР2__) и `recipes_sample_with_tags_ingredients.csv` (__ЛР5__) в созданные таблицы"
   ]
  },
  {
   "cell_type": "code",
   "execution_count": 6,
   "metadata": {
    "scrolled": true
   },
   "outputs": [
    {
     "data": {
      "text/html": [
       "<div>\n",
       "<style scoped>\n",
       "    .dataframe tbody tr th:only-of-type {\n",
       "        vertical-align: middle;\n",
       "    }\n",
       "\n",
       "    .dataframe tbody tr th {\n",
       "        vertical-align: top;\n",
       "    }\n",
       "\n",
       "    .dataframe thead th {\n",
       "        text-align: right;\n",
       "    }\n",
       "</style>\n",
       "<table border=\"1\" class=\"dataframe\">\n",
       "  <thead>\n",
       "    <tr style=\"text-align: right;\">\n",
       "      <th></th>\n",
       "      <th>user_id</th>\n",
       "      <th>recipe_id</th>\n",
       "      <th>date</th>\n",
       "      <th>rating</th>\n",
       "      <th>review</th>\n",
       "    </tr>\n",
       "    <tr>\n",
       "      <th>Unnamed: 0</th>\n",
       "      <th></th>\n",
       "      <th></th>\n",
       "      <th></th>\n",
       "      <th></th>\n",
       "      <th></th>\n",
       "    </tr>\n",
       "  </thead>\n",
       "  <tbody>\n",
       "    <tr>\n",
       "      <th>370476</th>\n",
       "      <td>21752</td>\n",
       "      <td>57993</td>\n",
       "      <td>2003-05-01</td>\n",
       "      <td>5</td>\n",
       "      <td>Last week whole sides of frozen salmon fillet ...</td>\n",
       "    </tr>\n",
       "    <tr>\n",
       "      <th>624300</th>\n",
       "      <td>431813</td>\n",
       "      <td>142201</td>\n",
       "      <td>2007-09-16</td>\n",
       "      <td>5</td>\n",
       "      <td>So simple and so tasty!  I used a yellow capsi...</td>\n",
       "    </tr>\n",
       "    <tr>\n",
       "      <th>187037</th>\n",
       "      <td>400708</td>\n",
       "      <td>252013</td>\n",
       "      <td>2008-01-10</td>\n",
       "      <td>4</td>\n",
       "      <td>Very nice breakfast HH, easy to make and yummy...</td>\n",
       "    </tr>\n",
       "    <tr>\n",
       "      <th>706134</th>\n",
       "      <td>2001852463</td>\n",
       "      <td>404716</td>\n",
       "      <td>2017-12-11</td>\n",
       "      <td>5</td>\n",
       "      <td>These are a favorite for the holidays and so e...</td>\n",
       "    </tr>\n",
       "    <tr>\n",
       "      <th>312179</th>\n",
       "      <td>95810</td>\n",
       "      <td>129396</td>\n",
       "      <td>2008-03-14</td>\n",
       "      <td>5</td>\n",
       "      <td>Excellent soup!  The tomato flavor is just gre...</td>\n",
       "    </tr>\n",
       "    <tr>\n",
       "      <th>...</th>\n",
       "      <td>...</td>\n",
       "      <td>...</td>\n",
       "      <td>...</td>\n",
       "      <td>...</td>\n",
       "      <td>...</td>\n",
       "    </tr>\n",
       "    <tr>\n",
       "      <th>1013457</th>\n",
       "      <td>1270706</td>\n",
       "      <td>335534</td>\n",
       "      <td>2009-05-17</td>\n",
       "      <td>4</td>\n",
       "      <td>This recipe was great! I made it last night. I...</td>\n",
       "    </tr>\n",
       "    <tr>\n",
       "      <th>158736</th>\n",
       "      <td>2282344</td>\n",
       "      <td>8701</td>\n",
       "      <td>2012-06-03</td>\n",
       "      <td>0</td>\n",
       "      <td>This recipe is outstanding. I followed the rec...</td>\n",
       "    </tr>\n",
       "    <tr>\n",
       "      <th>1059834</th>\n",
       "      <td>689540</td>\n",
       "      <td>222001</td>\n",
       "      <td>2008-04-08</td>\n",
       "      <td>5</td>\n",
       "      <td>Well, we were not a crowd but it was a fabulou...</td>\n",
       "    </tr>\n",
       "    <tr>\n",
       "      <th>453285</th>\n",
       "      <td>2000242659</td>\n",
       "      <td>354979</td>\n",
       "      <td>2015-06-02</td>\n",
       "      <td>5</td>\n",
       "      <td>I have been a steak eater and dedicated BBQ gr...</td>\n",
       "    </tr>\n",
       "    <tr>\n",
       "      <th>691207</th>\n",
       "      <td>463435</td>\n",
       "      <td>415599</td>\n",
       "      <td>2010-09-30</td>\n",
       "      <td>5</td>\n",
       "      <td>Wonderful and simple to prepare seasoning blen...</td>\n",
       "    </tr>\n",
       "  </tbody>\n",
       "</table>\n",
       "<p>126696 rows × 5 columns</p>\n",
       "</div>"
      ],
      "text/plain": [
       "               user_id  recipe_id        date  rating  \\\n",
       "Unnamed: 0                                              \n",
       "370476           21752      57993  2003-05-01       5   \n",
       "624300          431813     142201  2007-09-16       5   \n",
       "187037          400708     252013  2008-01-10       4   \n",
       "706134      2001852463     404716  2017-12-11       5   \n",
       "312179           95810     129396  2008-03-14       5   \n",
       "...                ...        ...         ...     ...   \n",
       "1013457        1270706     335534  2009-05-17       4   \n",
       "158736         2282344       8701  2012-06-03       0   \n",
       "1059834         689540     222001  2008-04-08       5   \n",
       "453285      2000242659     354979  2015-06-02       5   \n",
       "691207          463435     415599  2010-09-30       5   \n",
       "\n",
       "                                                       review  \n",
       "Unnamed: 0                                                     \n",
       "370476      Last week whole sides of frozen salmon fillet ...  \n",
       "624300      So simple and so tasty!  I used a yellow capsi...  \n",
       "187037      Very nice breakfast HH, easy to make and yummy...  \n",
       "706134      These are a favorite for the holidays and so e...  \n",
       "312179      Excellent soup!  The tomato flavor is just gre...  \n",
       "...                                                       ...  \n",
       "1013457     This recipe was great! I made it last night. I...  \n",
       "158736      This recipe is outstanding. I followed the rec...  \n",
       "1059834     Well, we were not a crowd but it was a fabulou...  \n",
       "453285      I have been a steak eater and dedicated BBQ gr...  \n",
       "691207      Wonderful and simple to prepare seasoning blen...  \n",
       "\n",
       "[126696 rows x 5 columns]"
      ]
     },
     "execution_count": 6,
     "metadata": {},
     "output_type": "execute_result"
    }
   ],
   "source": [
    "# TODO разобраться как убрать поле Unnamed:0 \n",
    "# , index_col=0 \n",
    "reviews_sample = pd.read_csv(\"./sem2/reviews_sample.csv\")\n",
    "reviews_sample = reviews_sample.set_index('Unnamed: 0')\n",
    "#reviews_sample.drop(labels = ['Unnamed: 0'],axis = 0)\n",
    "reviews_sample"
   ]
  },
  {
   "cell_type": "code",
   "execution_count": 7,
   "metadata": {
    "scrolled": true
   },
   "outputs": [
    {
     "data": {
      "text/html": [
       "<div>\n",
       "<style scoped>\n",
       "    .dataframe tbody tr th:only-of-type {\n",
       "        vertical-align: middle;\n",
       "    }\n",
       "\n",
       "    .dataframe tbody tr th {\n",
       "        vertical-align: top;\n",
       "    }\n",
       "\n",
       "    .dataframe thead th {\n",
       "        text-align: right;\n",
       "    }\n",
       "</style>\n",
       "<table border=\"1\" class=\"dataframe\">\n",
       "  <thead>\n",
       "    <tr style=\"text-align: right;\">\n",
       "      <th></th>\n",
       "      <th>name</th>\n",
       "      <th>id</th>\n",
       "      <th>minutes</th>\n",
       "      <th>contributor_id</th>\n",
       "      <th>submitted</th>\n",
       "      <th>n_steps</th>\n",
       "      <th>description</th>\n",
       "      <th>n_ingredients</th>\n",
       "      <th>tags</th>\n",
       "      <th>n_tags</th>\n",
       "      <th>recipe_id</th>\n",
       "      <th>ingredients</th>\n",
       "    </tr>\n",
       "  </thead>\n",
       "  <tbody>\n",
       "    <tr>\n",
       "      <th>0</th>\n",
       "      <td>george s at the cove  black bean soup</td>\n",
       "      <td>44123</td>\n",
       "      <td>90</td>\n",
       "      <td>35193</td>\n",
       "      <td>2002-10-25</td>\n",
       "      <td>11</td>\n",
       "      <td>an original recipe created by chef scott meska...</td>\n",
       "      <td>18</td>\n",
       "      <td>weeknight;time-to-make;course;main-ingredient;...</td>\n",
       "      <td>25</td>\n",
       "      <td>44123</td>\n",
       "      <td>unsalted butter*carrot*onion*celery*broccoli s...</td>\n",
       "    </tr>\n",
       "    <tr>\n",
       "      <th>1</th>\n",
       "      <td>healthy for them  yogurt popsicles</td>\n",
       "      <td>67664</td>\n",
       "      <td>10</td>\n",
       "      <td>91970</td>\n",
       "      <td>2003-07-26</td>\n",
       "      <td>3</td>\n",
       "      <td>my children and their friends ask for my homem...</td>\n",
       "      <td>0</td>\n",
       "      <td>15-minutes-or-less;time-to-make;course;prepara...</td>\n",
       "      <td>31</td>\n",
       "      <td>67664</td>\n",
       "      <td>milk*frozen juice concentrate*plain yogurt</td>\n",
       "    </tr>\n",
       "    <tr>\n",
       "      <th>2</th>\n",
       "      <td>i can t believe it s spinach</td>\n",
       "      <td>38798</td>\n",
       "      <td>30</td>\n",
       "      <td>1533</td>\n",
       "      <td>2002-08-29</td>\n",
       "      <td>5</td>\n",
       "      <td>these were so go, it surprised even me.</td>\n",
       "      <td>8</td>\n",
       "      <td>30-minutes-or-less;time-to-make;course;main-in...</td>\n",
       "      <td>17</td>\n",
       "      <td>38798</td>\n",
       "      <td>onion*frozen chopped spinach*eggs*garlic powde...</td>\n",
       "    </tr>\n",
       "    <tr>\n",
       "      <th>3</th>\n",
       "      <td>italian  gut busters</td>\n",
       "      <td>35173</td>\n",
       "      <td>45</td>\n",
       "      <td>22724</td>\n",
       "      <td>2002-07-27</td>\n",
       "      <td>7</td>\n",
       "      <td>my sister-in-law made these for us at a family...</td>\n",
       "      <td>0</td>\n",
       "      <td>60-minutes-or-less;time-to-make;course;prepara...</td>\n",
       "      <td>11</td>\n",
       "      <td>35173</td>\n",
       "      <td>sandwich bun*good seasonings italian salad dre...</td>\n",
       "    </tr>\n",
       "    <tr>\n",
       "      <th>4</th>\n",
       "      <td>love is in the air  beef fondue   sauces</td>\n",
       "      <td>84797</td>\n",
       "      <td>25</td>\n",
       "      <td>4470</td>\n",
       "      <td>2004-02-23</td>\n",
       "      <td>4</td>\n",
       "      <td>i think a fondue is a very romantic casual din...</td>\n",
       "      <td>0</td>\n",
       "      <td>30-minutes-or-less;time-to-make;course;main-in...</td>\n",
       "      <td>19</td>\n",
       "      <td>84797</td>\n",
       "      <td>beef steaks*vegetable oil*spicy mustard*fresh ...</td>\n",
       "    </tr>\n",
       "    <tr>\n",
       "      <th>...</th>\n",
       "      <td>...</td>\n",
       "      <td>...</td>\n",
       "      <td>...</td>\n",
       "      <td>...</td>\n",
       "      <td>...</td>\n",
       "      <td>...</td>\n",
       "      <td>...</td>\n",
       "      <td>...</td>\n",
       "      <td>...</td>\n",
       "      <td>...</td>\n",
       "      <td>...</td>\n",
       "      <td>...</td>\n",
       "    </tr>\n",
       "    <tr>\n",
       "      <th>29995</th>\n",
       "      <td>zurie s holey rustic olive and cheddar bread</td>\n",
       "      <td>267661</td>\n",
       "      <td>80</td>\n",
       "      <td>200862</td>\n",
       "      <td>2007-11-25</td>\n",
       "      <td>16</td>\n",
       "      <td>this is based on a french recipe but i changed...</td>\n",
       "      <td>10</td>\n",
       "      <td>time-to-make;course;main-ingredient;cuisine;pr...</td>\n",
       "      <td>18</td>\n",
       "      <td>267661</td>\n",
       "      <td>dry white wine*eggs*cheddar cheese*baking powd...</td>\n",
       "    </tr>\n",
       "    <tr>\n",
       "      <th>29996</th>\n",
       "      <td>zwetschgenkuchen  bavarian plum cake</td>\n",
       "      <td>386977</td>\n",
       "      <td>240</td>\n",
       "      <td>177443</td>\n",
       "      <td>2009-08-24</td>\n",
       "      <td>22</td>\n",
       "      <td>this is a traditional fresh plum cake, thought...</td>\n",
       "      <td>11</td>\n",
       "      <td>time-to-make;course;main-ingredient;cuisine;pr...</td>\n",
       "      <td>19</td>\n",
       "      <td>386977</td>\n",
       "      <td>unsalted butter*milk*flour*salt*vanilla*all-pu...</td>\n",
       "    </tr>\n",
       "    <tr>\n",
       "      <th>29997</th>\n",
       "      <td>zwiebelkuchen   southwest german onion cake</td>\n",
       "      <td>103312</td>\n",
       "      <td>75</td>\n",
       "      <td>161745</td>\n",
       "      <td>2004-11-03</td>\n",
       "      <td>10</td>\n",
       "      <td>this is a traditional late summer early fall s...</td>\n",
       "      <td>0</td>\n",
       "      <td>time-to-make;course;main-ingredient;cuisine;pr...</td>\n",
       "      <td>20</td>\n",
       "      <td>103312</td>\n",
       "      <td>onion*milk*eggs*butter*flour*salt*pepper*sugar...</td>\n",
       "    </tr>\n",
       "    <tr>\n",
       "      <th>29998</th>\n",
       "      <td>zydeco soup</td>\n",
       "      <td>486161</td>\n",
       "      <td>60</td>\n",
       "      <td>227978</td>\n",
       "      <td>2012-08-29</td>\n",
       "      <td>7</td>\n",
       "      <td>this is a delicious soup that i originally fou...</td>\n",
       "      <td>0</td>\n",
       "      <td>ham;60-minutes-or-less;time-to-make;course;mai...</td>\n",
       "      <td>20</td>\n",
       "      <td>486161</td>\n",
       "      <td>onion*celery*dried thyme*dried oregano*fresh p...</td>\n",
       "    </tr>\n",
       "    <tr>\n",
       "      <th>29999</th>\n",
       "      <td>cookies by design   cookies on a stick</td>\n",
       "      <td>298512</td>\n",
       "      <td>29</td>\n",
       "      <td>506822</td>\n",
       "      <td>2008-04-15</td>\n",
       "      <td>9</td>\n",
       "      <td>i've heard of the 'cookies by design' company,...</td>\n",
       "      <td>10</td>\n",
       "      <td>30-minutes-or-less;time-to-make;course;prepara...</td>\n",
       "      <td>12</td>\n",
       "      <td>298512</td>\n",
       "      <td>butter*sour cream*egg*bisquick*light brown sug...</td>\n",
       "    </tr>\n",
       "  </tbody>\n",
       "</table>\n",
       "<p>30000 rows × 12 columns</p>\n",
       "</div>"
      ],
      "text/plain": [
       "                                               name      id  minutes  \\\n",
       "0             george s at the cove  black bean soup   44123       90   \n",
       "1                healthy for them  yogurt popsicles   67664       10   \n",
       "2                      i can t believe it s spinach   38798       30   \n",
       "3                              italian  gut busters   35173       45   \n",
       "4          love is in the air  beef fondue   sauces   84797       25   \n",
       "...                                             ...     ...      ...   \n",
       "29995  zurie s holey rustic olive and cheddar bread  267661       80   \n",
       "29996          zwetschgenkuchen  bavarian plum cake  386977      240   \n",
       "29997   zwiebelkuchen   southwest german onion cake  103312       75   \n",
       "29998                                   zydeco soup  486161       60   \n",
       "29999        cookies by design   cookies on a stick  298512       29   \n",
       "\n",
       "       contributor_id   submitted  n_steps  \\\n",
       "0               35193  2002-10-25       11   \n",
       "1               91970  2003-07-26        3   \n",
       "2                1533  2002-08-29        5   \n",
       "3               22724  2002-07-27        7   \n",
       "4                4470  2004-02-23        4   \n",
       "...               ...         ...      ...   \n",
       "29995          200862  2007-11-25       16   \n",
       "29996          177443  2009-08-24       22   \n",
       "29997          161745  2004-11-03       10   \n",
       "29998          227978  2012-08-29        7   \n",
       "29999          506822  2008-04-15        9   \n",
       "\n",
       "                                             description  n_ingredients  \\\n",
       "0      an original recipe created by chef scott meska...             18   \n",
       "1      my children and their friends ask for my homem...              0   \n",
       "2                these were so go, it surprised even me.              8   \n",
       "3      my sister-in-law made these for us at a family...              0   \n",
       "4      i think a fondue is a very romantic casual din...              0   \n",
       "...                                                  ...            ...   \n",
       "29995  this is based on a french recipe but i changed...             10   \n",
       "29996  this is a traditional fresh plum cake, thought...             11   \n",
       "29997  this is a traditional late summer early fall s...              0   \n",
       "29998  this is a delicious soup that i originally fou...              0   \n",
       "29999  i've heard of the 'cookies by design' company,...             10   \n",
       "\n",
       "                                                    tags  n_tags  recipe_id  \\\n",
       "0      weeknight;time-to-make;course;main-ingredient;...      25      44123   \n",
       "1      15-minutes-or-less;time-to-make;course;prepara...      31      67664   \n",
       "2      30-minutes-or-less;time-to-make;course;main-in...      17      38798   \n",
       "3      60-minutes-or-less;time-to-make;course;prepara...      11      35173   \n",
       "4      30-minutes-or-less;time-to-make;course;main-in...      19      84797   \n",
       "...                                                  ...     ...        ...   \n",
       "29995  time-to-make;course;main-ingredient;cuisine;pr...      18     267661   \n",
       "29996  time-to-make;course;main-ingredient;cuisine;pr...      19     386977   \n",
       "29997  time-to-make;course;main-ingredient;cuisine;pr...      20     103312   \n",
       "29998  ham;60-minutes-or-less;time-to-make;course;mai...      20     486161   \n",
       "29999  30-minutes-or-less;time-to-make;course;prepara...      12     298512   \n",
       "\n",
       "                                             ingredients  \n",
       "0      unsalted butter*carrot*onion*celery*broccoli s...  \n",
       "1             milk*frozen juice concentrate*plain yogurt  \n",
       "2      onion*frozen chopped spinach*eggs*garlic powde...  \n",
       "3      sandwich bun*good seasonings italian salad dre...  \n",
       "4      beef steaks*vegetable oil*spicy mustard*fresh ...  \n",
       "...                                                  ...  \n",
       "29995  dry white wine*eggs*cheddar cheese*baking powd...  \n",
       "29996  unsalted butter*milk*flour*salt*vanilla*all-pu...  \n",
       "29997  onion*milk*eggs*butter*flour*salt*pepper*sugar...  \n",
       "29998  onion*celery*dried thyme*dried oregano*fresh p...  \n",
       "29999  butter*sour cream*egg*bisquick*light brown sug...  \n",
       "\n",
       "[30000 rows x 12 columns]"
      ]
     },
     "execution_count": 7,
     "metadata": {},
     "output_type": "execute_result"
    }
   ],
   "source": [
    "recipes_sample_with_tags_ingredients = pd.read_csv(\"./sem5/recipes_sample_with_tags_ingredients.csv\")\n",
    "recipes_sample_with_tags_ingredients"
   ]
  },
  {
   "cell_type": "code",
   "execution_count": 8,
   "metadata": {},
   "outputs": [],
   "source": [
    "conn = sqlite3.connect('./sem6/recipes.db')\n",
    "curr = conn.cursor()\n",
    "\n",
    "for columun, row in reviews_sample.iterrows():\n",
    "    curr.execute(\"\"\"\n",
    "        INSERT INTO Review(id, user_id, recipe_id, date, rating, review) \n",
    "        VALUES (?, ?, ?, ?, ?, ?)\"\"\", \n",
    "                (columun, row[0], row[1], row[2], row[3], row[4]))\n",
    "conn.commit()"
   ]
  },
  {
   "cell_type": "code",
   "execution_count": 9,
   "metadata": {},
   "outputs": [],
   "source": [
    "conn = sqlite3.connect('./sem6/recipes.db')\n",
    "curr = conn.cursor()\n",
    "\n",
    "for columun, row in recipes_sample_with_tags_ingredients.iterrows():\n",
    "    curr.execute(\"\"\"\n",
    "        INSERT INTO Recipe(id, name, minutes, submitted, desciption, n_ingredients) \n",
    "        VALUES (?, ?, ?, ?, ?, ?)\"\"\", \n",
    "                (row[1], row[0], row[2], row[4], row[6], row[7]))\n",
    "conn.commit()"
   ]
  },
  {
   "cell_type": "markdown",
   "metadata": {},
   "source": [
    "5. Найдите все рецепты, для выполнения которых нужно ровно 10 ингредиентов. Выведите на экран первые 5 из найденных рецептов."
   ]
  },
  {
   "cell_type": "code",
   "execution_count": 13,
   "metadata": {},
   "outputs": [
    {
     "name": "stdout",
     "output_type": "stream",
     "text": [
      "[(246, 'lee s hot crab dip', 45, '1999-09-01', \"lee's hot crab dip\", 10), (289, 'feijoada  brazilian bean soup  ii', 150, '1999-10-04', 'brazilian bean soup', 10), (544, 'greek mushroom salad', 38, '1999-08-10', None, 10), (671, 'cucumber relish', 40, '1999-09-10', None, 10), (975, 'basil parmesan biscuits', 27, '1999-08-14', 'perfect with pasta or other italian dishes', 10)]\n"
     ]
    }
   ],
   "source": [
    "conn = sqlite3.connect('./sem6/recipes.db')\n",
    "curr = conn.cursor()\n",
    "\n",
    "onlyTenRecipe = \"\"\"\n",
    "    SELECT * \n",
    "    FROM Recipe\n",
    "    WHERE n_ingredients=10;\"\"\"\n",
    "\n",
    "curr.execute(onlyTenRecipe)\n",
    "total = curr.fetchmany(5)\n",
    "\n",
    "print(total)"
   ]
  },
  {
   "cell_type": "markdown",
   "metadata": {},
   "source": [
    "6. Найдите название рецепта, для выполнения которого требуется больше всего времени."
   ]
  },
  {
   "cell_type": "code",
   "execution_count": 16,
   "metadata": {},
   "outputs": [
    {
     "name": "stdout",
     "output_type": "stream",
     "text": [
      "(236274, 'strawberry liqueur', 129615, '2007-06-21', 'a beautiful light red shade with a delicious strawberry flavor.', 5)\n"
     ]
    }
   ],
   "source": [
    "conn = sqlite3.connect('./sem6/recipes.db')\n",
    "curr = conn.cursor()\n",
    "\n",
    "totalTime = \"\"\"\n",
    "    SELECT *\n",
    "    FROM Recipe\n",
    "    WHERE minutes = (SELECT MAX(minutes) FROM Recipe);\"\"\"\n",
    "\n",
    "curr.execute(totalTime)\n",
    "total = curr.fetchone()\n",
    "\n",
    "print(total)"
   ]
  },
  {
   "cell_type": "markdown",
   "metadata": {},
   "source": [
    "7. Запросите у пользователя id рецепта и верните информацию об этом рецепте. Если рецепт отсуствует, выведите соответствующее сообщение."
   ]
  },
  {
   "cell_type": "code",
   "execution_count": 19,
   "metadata": {},
   "outputs": [
    {
     "name": "stdout",
     "output_type": "stream",
     "text": [
      "Recipe not found!\n"
     ]
    }
   ],
   "source": [
    "conn = sqlite3.connect('./sem6/recipes.db')\n",
    "curr = conn.cursor()\n",
    "\n",
    "myRecipe = (30000, )\n",
    "\n",
    "info_recipe = \"\"\"\n",
    "    SELECT *\n",
    "    FROM Recipe\n",
    "    WHERE id = ?;\"\"\"\n",
    "\n",
    "curr.execute(info_recipe, myRecipe)\n",
    "total = curr.fetchone()\n",
    "\n",
    "if total:\n",
    "    print(total)\n",
    "else:\n",
    "    print(\"Recipe not found!\")"
   ]
  },
  {
   "cell_type": "markdown",
   "metadata": {},
   "source": [
    "8. Найдите кол-во отзывов с рейтингом 5."
   ]
  },
  {
   "cell_type": "code",
   "execution_count": 25,
   "metadata": {},
   "outputs": [
    {
     "name": "stdout",
     "output_type": "stream",
     "text": [
      "91361\n"
     ]
    }
   ],
   "source": [
    "conn = sqlite3.connect('./sem6/recipes.db')\n",
    "curr = conn.cursor()\n",
    "\n",
    "rating = \"\"\"\n",
    "    SELECT COUNT(*)\n",
    "    FROM Review\n",
    "    WHERE rating = 5;\"\"\"\n",
    "\n",
    "curr.execute(rating)\n",
    "total = curr.fetchall()\n",
    "\n",
    "print(total[0][0])"
   ]
  },
  {
   "cell_type": "markdown",
   "metadata": {},
   "source": [
    "9. Найдите кол-во уникальных рецептов, не имеющих отзывов с рейтингом, меньше 4. "
   ]
  },
  {
   "cell_type": "code",
   "execution_count": 31,
   "metadata": {},
   "outputs": [
    {
     "name": "stdout",
     "output_type": "stream",
     "text": [
      "0\n"
     ]
    }
   ],
   "source": [
    "conn = sqlite3.connect('./sem6/recipes.db')\n",
    "curr = conn.cursor()\n",
    "\n",
    "recipe_with_review = \"\"\"\n",
    "    SELECT COUNT(*)\n",
    "    FROM Review\n",
    "    WHERE rating >= 4 AND review = ''\n",
    "    GROUP BY recipe_id;\"\"\"\n",
    "\n",
    "curr.execute(recipe_with_review)\n",
    "total = curr.fetchall()\n",
    "\n",
    "pp(len(total))"
   ]
  },
  {
   "cell_type": "markdown",
   "metadata": {},
   "source": [
    "10. Найдите кол-во рецептов, опубликованных в 2010 году и имеющих длину не менее 15 минут."
   ]
  },
  {
   "cell_type": "code",
   "execution_count": 32,
   "metadata": {},
   "outputs": [
    {
     "name": "stdout",
     "output_type": "stream",
     "text": [
      "1319\n"
     ]
    }
   ],
   "source": [
    "conn = sqlite3.connect('./sem6/recipes.db')\n",
    "curr = conn.cursor()\n",
    "\n",
    "number_recipe = \"\"\"\n",
    "    SELECT COUNT(*)\n",
    "    FROM Recipe\n",
    "    WHERE (submitted BETWEEN '2010-01-01' AND '2010-12-31') AND minutes >= 15;\"\"\"\n",
    "\n",
    "curr.execute(number_recipe)\n",
    "total = curr.fetchall()\n",
    "\n",
    "print(total[0][0])"
   ]
  },
  {
   "cell_type": "markdown",
   "metadata": {},
   "source": [
    "11. Выберите id рецепта, название рецепта, id пользователя, оставившего отзыв, дату отзыва и рейтинг для тех рецептов, которые имеют не менее 3 ингредиентов. Отсортируйте результат по id рецепта."
   ]
  },
  {
   "cell_type": "code",
   "execution_count": null,
   "metadata": {},
   "outputs": [],
   "source": []
  },
  {
   "cell_type": "code",
   "execution_count": 33,
   "metadata": {},
   "outputs": [],
   "source": [
    "curr.close()\n",
    "conn.close()"
   ]
  }
 ],
 "metadata": {
  "kernelspec": {
   "display_name": "Python 3",
   "language": "python",
   "name": "python3"
  },
  "language_info": {
   "codemirror_mode": {
    "name": "ipython",
    "version": 3
   },
   "file_extension": ".py",
   "mimetype": "text/x-python",
   "name": "python",
   "nbconvert_exporter": "python",
   "pygments_lexer": "ipython3",
   "version": "3.8.8"
  }
 },
 "nbformat": 4,
 "nbformat_minor": 4
}
